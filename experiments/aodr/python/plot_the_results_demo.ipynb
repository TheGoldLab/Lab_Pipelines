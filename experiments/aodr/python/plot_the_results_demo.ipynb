{
 "cells": [
  {
   "cell_type": "markdown",
   "id": "91e5b173",
   "metadata": {},
   "source": [
    "Load outputs"
   ]
  },
  {
   "cell_type": "code",
   "execution_count": null,
   "id": "17b45596",
   "metadata": {},
   "outputs": [
    {
     "ename": "TypeError",
     "evalue": "unsupported operand type(s) for /: 'str' and 'str'",
     "output_type": "error",
     "traceback": [
      "\u001b[31m---------------------------------------------------------------------------\u001b[39m",
      "\u001b[31mTypeError\u001b[39m                                 Traceback (most recent call last)",
      "\u001b[36mCell\u001b[39m\u001b[36m \u001b[39m\u001b[32mIn[2]\u001b[39m\u001b[32m, line 9\u001b[39m\n\u001b[32m      7\u001b[39m \u001b[38;5;66;03m# outputs saved to results_dir\u001b[39;00m\n\u001b[32m      8\u001b[39m results_dir = \u001b[33m\"\u001b[39m\u001b[33mC:/Users/GoldLab/Documents/Output_Test/kilosort4/\u001b[39m\u001b[33m\"\u001b[39m\n\u001b[32m----> \u001b[39m\u001b[32m9\u001b[39m ops = load_ops(\u001b[43mresults_dir\u001b[49m\u001b[43m \u001b[49m\u001b[43m/\u001b[49m\u001b[43m \u001b[49m\u001b[33;43m'\u001b[39;49m\u001b[33;43mops.npy\u001b[39;49m\u001b[33;43m'\u001b[39;49m)\n\u001b[32m     10\u001b[39m camps = pd.read_csv(results_dir / \u001b[33m'\u001b[39m\u001b[33mcluster_Amplitude.tsv\u001b[39m\u001b[33m'\u001b[39m, sep=\u001b[33m'\u001b[39m\u001b[38;5;130;01m\\t\u001b[39;00m\u001b[33m'\u001b[39m)[\u001b[33m'\u001b[39m\u001b[33mAmplitude\u001b[39m\u001b[33m'\u001b[39m].values\n\u001b[32m     11\u001b[39m contam_pct = pd.read_csv(results_dir / \u001b[33m'\u001b[39m\u001b[33mcluster_ContamPct.tsv\u001b[39m\u001b[33m'\u001b[39m, sep=\u001b[33m'\u001b[39m\u001b[38;5;130;01m\\t\u001b[39;00m\u001b[33m'\u001b[39m)[\u001b[33m'\u001b[39m\u001b[33mContamPct\u001b[39m\u001b[33m'\u001b[39m].values\n",
      "\u001b[31mTypeError\u001b[39m: unsupported operand type(s) for /: 'str' and 'str'"
     ]
    }
   ],
   "source": [
    "from pathlib import Path\n",
    "\n",
    "import numpy as np\n",
    "import pandas as pd\n",
    "\n",
    "from kilosort.io import load_ops\n",
    "\n",
    "\n",
    "# outputs saved to results_dir\n",
    "results_dir = Path(\"C:/Users/GoldLab/Documents/Output_Test/kilosort4/\")\n",
    "ops = load_ops(results_dir / 'ops.npy')\n",
    "camps = pd.read_csv(results_dir / 'cluster_Amplitude.tsv', sep='\\t')['Amplitude'].values\n",
    "contam_pct = pd.read_csv(results_dir / 'cluster_ContamPct.tsv', sep='\\t')['ContamPct'].values\n",
    "chan_map =  np.load(results_dir / 'channel_map.npy')\n",
    "templates =  np.load(results_dir / 'templates.npy')\n",
    "chan_best = (templates**2).sum(axis=1).argmax(axis=-1)\n",
    "chan_best = chan_map[chan_best]\n",
    "amplitudes = np.load(results_dir / 'amplitudes.npy')\n",
    "st = np.load(results_dir / 'spike_times.npy')\n",
    "clu = np.load(results_dir / 'spike_clusters.npy')\n",
    "firing_rates = np.unique(clu, return_counts=True)[1] * 30000 / st.max()\n",
    "dshift = ops['dshift']"
   ]
  }
 ],
 "metadata": {
  "kernelspec": {
   "display_name": "gold_pipelines",
   "language": "python",
   "name": "python3"
  },
  "language_info": {
   "codemirror_mode": {
    "name": "ipython",
    "version": 3
   },
   "file_extension": ".py",
   "mimetype": "text/x-python",
   "name": "python",
   "nbconvert_exporter": "python",
   "pygments_lexer": "ipython3",
   "version": "3.11.12"
  }
 },
 "nbformat": 4,
 "nbformat_minor": 5
}
