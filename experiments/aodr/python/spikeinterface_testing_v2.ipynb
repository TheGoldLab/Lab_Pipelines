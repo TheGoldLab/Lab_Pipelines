{
 "cells": [
  {
   "cell_type": "code",
   "execution_count": null,
   "metadata": {},
   "outputs": [],
   "source": [
    "import spikeinterface.widgets as sw\n",
    "from AODR_session_sorters import OpenEphysSessionSorter as OES\n",
    "from pyramid import cli\n",
    "import pandas as pd\n",
    "import os\n",
    "%matplotlib ipympl"
   ]
  },
  {
   "cell_type": "code",
   "execution_count": null,
   "metadata": {},
   "outputs": [],
   "source": [
    "# Directory where the raw files are stored to be converted/sorted\n",
    "dataSearchPath = \"/Users/lowell/Library/CloudStorage/Box-Box/GoldLab/Data/Physiology/AODR/Data/Anubis/Raw/Behavior/\"\n",
    "# Where the rules for ecodes are stored\n",
    "pyramidSearchPath = \"/Users/lowell/Documents/GitHub/Lab_Pipelines/experiments/aodr/ecodes/\"\n",
    "# Conversion specifications\n",
    "convertSpecs = \"/Users/lowell/Documents/GitHub/Lab_Pipelines/experiments/aodr/AODR_experiment_LC.yaml\"\n",
    "# Base directory to save the output files from pyramid (hdf5 files)\n",
    "baseSaveDir = \"/Users/lowell/Library/CloudStorage/Box-Box/GoldLab/Data/Physiology/AODR/Data/Anubis/Converted/Behavior/Pyramid/\"\n",
    "\n",
    "currentFile = \"Anubis_2024-07-09_13-26-53\"\n",
    "# Full directory to save the output files from pyramid (hdf5 files)\n",
    "trialFileOutputName = baseSaveDir+currentFile+\".hdf5\"\n",
    "# Directory to save the output files from sorting\n",
    "sorted_out = dataSearchPath.split(\"Raw\")[0]+\"Sorted/\"+currentFile "
   ]
  },
  {
   "cell_type": "code",
   "execution_count": 3,
   "metadata": {},
   "outputs": [
    {
     "name": "stdout",
     "output_type": "stream",
     "text": [
      "read_data ...OK\n",
      "set_tetrode ...OK\n",
      "bandpass ...OK\n",
      "Geometry of the probe does not allow 1D drift correction\n"
     ]
    },
    {
     "name": "stderr",
     "output_type": "stream",
     "text": [
      "/Users/lowell/anaconda3/envs/gold_pipelines/lib/python3.11/site-packages/sklearn/covariance/_graph_lasso.py:191: ConvergenceWarning: graphical_lasso: did not converge after 100 iteration: dual gap: -1.565e-03\n",
      "  warnings.warn(\n"
     ]
    },
    {
     "data": {
      "application/vnd.jupyter.widget-view+json": {
       "model_id": "e02d53bed0144384a570d9650bc64462",
       "version_major": 2,
       "version_minor": 0
      },
      "text/plain": [
       "write_memory_recording:   0%|          | 0/4245 [00:00<?, ?it/s]"
      ]
     },
     "metadata": {},
     "output_type": "display_data"
    },
    {
     "data": {
      "application/vnd.jupyter.widget-view+json": {
       "model_id": "6899347b2a3e40e2a247f93e31b8cc76",
       "version_major": 2,
       "version_minor": 0
      },
      "text/plain": [
       "detect peaks using locally_exclusive:   0%|          | 0/4245 [00:00<?, ?it/s]"
      ]
     },
     "metadata": {},
     "output_type": "display_data"
    },
    {
     "data": {
      "application/vnd.jupyter.widget-view+json": {
       "model_id": "ecdc154cf21441648e94dd9c822804e7",
       "version_major": 2,
       "version_minor": 0
      },
      "text/plain": [
       "extract waveforms shared_memory mono buffer:   0%|          | 0/4245 [00:00<?, ?it/s]"
      ]
     },
     "metadata": {},
     "output_type": "display_data"
    },
    {
     "data": {
      "application/vnd.jupyter.widget-view+json": {
       "model_id": "33a5d97db6c24c41b8251554a22ce01f",
       "version_major": 2,
       "version_minor": 0
      },
      "text/plain": [
       "detect peaks using matched_filtering:   0%|          | 0/42449 [00:00<?, ?it/s]"
      ]
     },
     "metadata": {},
     "output_type": "display_data"
    },
    {
     "name": "stdout",
     "output_type": "stream",
     "text": [
      "We found 82821 peaks in total\n",
      "We kept 82821 peaks for clustering\n"
     ]
    },
    {
     "data": {
      "application/vnd.jupyter.widget-view+json": {
       "model_id": "9f4fa7077a454cdd81269dc2c440a44e",
       "version_major": 2,
       "version_minor": 0
      },
      "text/plain": [
       "extract waveforms shared_memory mono buffer:   0%|          | 0/4245 [00:00<?, ?it/s]"
      ]
     },
     "metadata": {},
     "output_type": "display_data"
    },
    {
     "data": {
      "application/vnd.jupyter.widget-view+json": {
       "model_id": "764439767b7b4c6aa2279076c2bbd86f",
       "version_major": 2,
       "version_minor": 0
      },
      "text/plain": [
       "extracting features:   0%|          | 0/4245 [00:00<?, ?it/s]"
      ]
     },
     "metadata": {},
     "output_type": "display_data"
    },
    {
     "data": {
      "application/vnd.jupyter.widget-view+json": {
       "model_id": "e4e8eab238464ac9b5a89ad039ac1566",
       "version_major": 2,
       "version_minor": 0
      },
      "text/plain": [
       "split_clusters with local_feature_clustering:   0%|          | 0/4 [00:00<?, ?it/s]"
      ]
     },
     "metadata": {},
     "output_type": "display_data"
    },
    {
     "data": {
      "application/vnd.jupyter.widget-view+json": {
       "model_id": "aa65c4f5a2c74f17b7c74b4005b2c95c",
       "version_major": 2,
       "version_minor": 0
      },
      "text/plain": [
       "estimate_templates:   0%|          | 0/4245 [00:00<?, ?it/s]"
      ]
     },
     "metadata": {},
     "output_type": "display_data"
    },
    {
     "name": "stdout",
     "output_type": "stream",
     "text": [
      "We found 80 raw clusters, starting to clean with matching...\n"
     ]
    },
    {
     "name": "stderr",
     "output_type": "stream",
     "text": [
      "/Users/lowell/anaconda3/envs/gold_pipelines/lib/python3.11/site-packages/spikeinterface/core/baserecordingsnippets.py:264: UserWarning: There is no Probe attached to this recording. Creating a dummy one with contact positions\n",
      "  warn(\"There is no Probe attached to this recording. Creating a dummy one with contact positions\")\n"
     ]
    },
    {
     "data": {
      "application/vnd.jupyter.widget-view+json": {
       "model_id": "3da4251090fb45afb1754da1902af1d4",
       "version_major": 2,
       "version_minor": 0
      },
      "text/plain": [
       "write_memory_recording:   0%|          | 0/1 [00:00<?, ?it/s]"
      ]
     },
     "metadata": {},
     "output_type": "display_data"
    },
    {
     "name": "stdout",
     "output_type": "stream",
     "text": [
      "We kept 75 non-duplicated clusters...\n"
     ]
    },
    {
     "data": {
      "application/vnd.jupyter.widget-view+json": {
       "model_id": "380cbb2dd0094fb3b9d767c9ba9281d1",
       "version_major": 2,
       "version_minor": 0
      },
      "text/plain": [
       "estimate_templates:   0%|          | 0/4245 [00:00<?, ?it/s]"
      ]
     },
     "metadata": {},
     "output_type": "display_data"
    },
    {
     "data": {
      "application/vnd.jupyter.widget-view+json": {
       "model_id": "f40147f6aded4fba86db4d1c0d5a9a07",
       "version_major": 2,
       "version_minor": 0
      },
      "text/plain": [
       "find spikes (wobble):   0%|          | 0/42449 [00:00<?, ?it/s]"
      ]
     },
     "metadata": {},
     "output_type": "display_data"
    },
    {
     "name": "stdout",
     "output_type": "stream",
     "text": [
      "We found 335144 spikes\n"
     ]
    },
    {
     "name": "stderr",
     "output_type": "stream",
     "text": [
      "OMP: Info #276: omp_set_nested routine deprecated, please use omp_set_max_active_levels instead.\n"
     ]
    },
    {
     "name": "stdout",
     "output_type": "stream",
     "text": [
      "Final merging, keeping 75 units\n",
      "spykingcircus2 run time 890.56s\n"
     ]
    },
    {
     "data": {
      "application/vnd.jupyter.widget-view+json": {
       "model_id": "96613f34aae74f9f80c585ff61375ba0",
       "version_major": 2,
       "version_minor": 0
      },
      "text/plain": [
       "estimate_sparsity:   0%|          | 0/4245 [00:00<?, ?it/s]"
      ]
     },
     "metadata": {},
     "output_type": "display_data"
    },
    {
     "name": "stderr",
     "output_type": "stream",
     "text": [
      "/Users/lowell/anaconda3/envs/gold_pipelines/lib/python3.11/site-packages/spikeinterface/core/basesorting.py:264: UserWarning: The registered recording will not be persistent on disk, but only available in memory\n",
      "  warnings.warn(\"The registered recording will not be persistent on disk, but only available in memory\")\n"
     ]
    },
    {
     "data": {
      "application/vnd.jupyter.widget-view+json": {
       "model_id": "b8b990a823dd4b2995625dfc6fc6debb",
       "version_major": 2,
       "version_minor": 0
      },
      "text/plain": [
       "compute_waveforms:   0%|          | 0/4245 [00:00<?, ?it/s]"
      ]
     },
     "metadata": {},
     "output_type": "display_data"
    },
    {
     "data": {
      "application/vnd.jupyter.widget-view+json": {
       "model_id": "1b754199981d432cb974a2a1c99ed440",
       "version_major": 2,
       "version_minor": 0
      },
      "text/plain": [
       "Fitting PCA:   0%|          | 0/75 [00:00<?, ?it/s]"
      ]
     },
     "metadata": {},
     "output_type": "display_data"
    },
    {
     "data": {
      "application/vnd.jupyter.widget-view+json": {
       "model_id": "1d90327a8c874ccb86f90dfaecfef884",
       "version_major": 2,
       "version_minor": 0
      },
      "text/plain": [
       "Projecting waveforms:   0%|          | 0/75 [00:00<?, ?it/s]"
      ]
     },
     "metadata": {},
     "output_type": "display_data"
    },
    {
     "data": {
      "application/vnd.jupyter.widget-view+json": {
       "model_id": "cd8a7bd4d61a451c86193709b601360f",
       "version_major": 2,
       "version_minor": 0
      },
      "text/plain": [
       "spike_amplitudes:   0%|          | 0/4245 [00:00<?, ?it/s]"
      ]
     },
     "metadata": {},
     "output_type": "display_data"
    },
    {
     "name": "stdout",
     "output_type": "stream",
     "text": [
      "run_one_sorter_and_analyzer ...OK\n"
     ]
    },
    {
     "name": "stderr",
     "output_type": "stream",
     "text": [
      "qt.qpa.fonts: Populating font family aliases took 68 ms. Replace uses of missing font family \"Menlo\" with one that exists to avoid this cost. \n"
     ]
    },
    {
     "name": "stdout",
     "output_type": "stream",
     "text": [
      "open_sigui ...OK\n"
     ]
    },
    {
     "data": {
      "application/vnd.jupyter.widget-view+json": {
       "model_id": "5e0b3b7fc66e417dacd15ab8674914e6",
       "version_major": 2,
       "version_minor": 0
      },
      "text/plain": [
       "write_binary_recording:   0%|          | 0/4245 [00:00<?, ?it/s]"
      ]
     },
     "metadata": {},
     "output_type": "display_data"
    },
    {
     "data": {
      "application/vnd.jupyter.widget-view+json": {
       "model_id": "f45fc88f49114addb86dc51e58b56fd1",
       "version_major": 2,
       "version_minor": 0
      },
      "text/plain": [
       "extract PCs:   0%|          | 0/4245 [00:00<?, ?it/s]"
      ]
     },
     "metadata": {},
     "output_type": "display_data"
    },
    {
     "name": "stdout",
     "output_type": "stream",
     "text": [
      "export_to_phy ...OK\n"
     ]
    }
   ],
   "source": [
    "sorter = OES(session_dir=dataSearchPath+currentFile, channel_names=[0,1,2,3],\n",
    "             out_folder=sorted_out, \n",
    "             step_names=[\n",
    "                 'read_data',\n",
    "                 'set_tetrode',\n",
    "                 'bandpass',\n",
    "                 'run_one_sorter_and_analyzer',\n",
    "                 'open_sigui',\n",
    "                 'export_to_phy'\n",
    "             ])"
   ]
  },
  {
   "cell_type": "code",
   "execution_count": null,
   "metadata": {},
   "outputs": [],
   "source": [
    "w_ts_filt = sw.plot_traces(sorter.recording, channel_ids=[0,1,2,3], backend=\"ipywidgets\")"
   ]
  },
  {
   "cell_type": "markdown",
   "metadata": {},
   "source": [
    "Run Pyramid on the corresponding output"
   ]
  },
  {
   "cell_type": "code",
   "execution_count": null,
   "metadata": {},
   "outputs": [],
   "source": [
    "cli.main([\"convert\", \n",
    "        \"--trial-file\", trialFileOutputName, \n",
    "        \"--search-path\", pyramidSearchPath, \n",
    "        \"--experiment\", convertSpecs, \n",
    "        \"--readers\", \n",
    "        \"ttl_reader.session_dir=\"+dataSearchPath+currentFile,\n",
    "        \"message_reader.session_dir=\"+dataSearchPath+currentFile,\n",
    "        \"gaze_x_reader.session_dir=\"+dataSearchPath+currentFile,\n",
    "        \"gaze_y_reader.session_dir=\"+dataSearchPath+currentFile,\n",
    "        \"pupil_reader.session_dir=\"+dataSearchPath+currentFile,\n",
    "        \"phy_reader.params_file=\"+sorted_out+\"/phy/params.py\"])"
   ]
  }
 ],
 "metadata": {
  "kernelspec": {
   "display_name": "si_env",
   "language": "python",
   "name": "python3"
  },
  "language_info": {
   "codemirror_mode": {
    "name": "ipython",
    "version": 3
   },
   "file_extension": ".py",
   "mimetype": "text/x-python",
   "name": "python",
   "nbconvert_exporter": "python",
   "pygments_lexer": "ipython3",
   "version": "3.11.9"
  }
 },
 "nbformat": 4,
 "nbformat_minor": 2
}
