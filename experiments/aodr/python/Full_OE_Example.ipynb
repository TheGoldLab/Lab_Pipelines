{
 "cells": [
  {
   "cell_type": "markdown",
   "metadata": {},
   "source": [
    "**The primary purpose of this notebook is to test the OpenEphys sorting \"pipeline\".\n",
    "Specifically, after defining your pathnames appropriately, this notebook will use SpikeInterface to perform spike sorting, analyze the sorting quality, and exports the results in \"Phy\" format. This output is then passed into pyramid to extract behavioral data, eye data, and spiking data to create a \"TrialFile\" which can be easily converted in Matlab to a user-friendly format, like FIRA, to perform subsequent analyses.**\n",
    "\n",
    "Notes: \n",
    "1) MAKE SURE YOUR KERNEL (top right corner of the notebook in VS Code) IS \"gold_pipelines (Python X.XX.X)\n",
    "2) This should be run with VS code when your top level folder is \\Lab_Pipelines/experiments/aodr/\n",
    "3) Can't find a module/package? Check if you have a jupyter conflict. If your jupyter notebook is local, it's looking for resources based on the local jupyter paths. We want our jupyter notebook to be working in the same environment we're using (gold_pipelines). This might pose problems for other work you do with jupyter, but I'm not sure yet (you might want to consider only installing jupyter in python environments). Check which jupyter you're using by typing \"which jupyter\" in a terminal with the gold_pipelines environment activated. If it references a jupyer that is located in \".../anaconda3/envs/gold_pipelines\" then you should be okay. If it's something else then you should try uninstalling jupyter:\n",
    "\n",
    "```python\n",
    "conda remove jupyter jupyter-client jupyter-console jupyter-core\n",
    "\n",
    "conda uninstall jupyter_core nbformat nbconvert notebook\n",
    "```\n",
    "\n",
    "Then reinstall the gold_pipelines environment."
   ]
  },
  {
   "cell_type": "code",
   "execution_count": null,
   "metadata": {},
   "outputs": [],
   "source": [
    "import spikeinterface.widgets as sw\n",
    "from AODR_session_sorters import OpenEphysSessionSorter as OES\n",
    "from pyramid import cli\n",
    "import pandas as pd\n",
    "import sys, os, io\n",
    "%matplotlib ipympl"
   ]
  },
  {
   "cell_type": "markdown",
   "metadata": {},
   "source": [
    "Below, we define the relevant paths. You should change these to match the corresponding paths on your machine. If you encounter issues while loading/sorting the file, chances are that your computer is having a hard time accessing the files from cloud storage. If that is the case, you need to transfer your files to a local directory, and also save the files to a local directory."
   ]
  },
  {
   "cell_type": "code",
   "execution_count": null,
   "metadata": {},
   "outputs": [],
   "source": [
    "# Experiment directory top level - should contain the subfolders like ecodes, python, matlab.\n",
    "expDir = \"C:/Users/lt711/Documents/GitHub/Lab_Pipelines/experiments/aodr\"\n",
    "os.chdir(expDir) # regular python files will run from the first open folder in your tree, but notebooks will work from wherever the notebook is stored.\n",
    "# Directory where the raw files are stored to be converted/sorted\n",
    "#dataSearchPath = \"C:/Users/GoldLab/Box/GoldLab/Data/Physiology/AODR/Data/Anubis/Raw/Behavior/\"\n",
    "dataSearchPath = \"C:/Users/lt711/Documents/\"\n",
    "# Where the rules for ecodes are stored\n",
    "pyramidSearchPath = expDir+\"/ecodes\"\n",
    "# Conversion specifications\n",
    "convertSpecs = expDir+\"/AODR_experiment_LC.yaml\"\n",
    "# Base directory to save the output files from pyramid (hdf5 files)\n",
    "#baseSaveDir = \"C:/Users/GoldLab/Box/GoldLab/Data/Physiology/AODR/Data/Anubis/Converted/Behavior/Pyramid/\"\n",
    "baseSaveDir = \"C:/Users/lt711/Documents/Docker_Output_Test/\" # test output folder\n",
    "# The Open Ephys session directory (technically not a file, but a folder)\n",
    "#currentFile = \"Anubis_2024-08-05_12-06-56\"\n",
    "currentFile = \"sub-255CR_ses-20200322T135448_behavior+ecephys+image.nwb\"\n",
    "# Full directory to save the output files from pyramid (hdf5 files)\n",
    "trialFileOutputName = baseSaveDir+currentFile+\".hdf5\"\n",
    "# Directory to save the output files from sorting\n",
    "#sorted_out = dataSearchPath.split(\"Raw\")[0]+\"Sorted/\"+currentFile\n",
    "sorted_out = baseSaveDir\n",
    "\n",
    "sys.path.append(expDir+\"/python\") # to make sure pyramid can access the custom collectors/enhancers/functions?"
   ]
  },
  {
   "cell_type": "markdown",
   "metadata": {},
   "source": [
    "Below, we run the sorter/analyzer. With ~4 channels of neural data and a 90 min recording, this should take between 10-20 minutes. The step_names variable defines the sequential processing steps that are defined as methods in AODR_session_sorters OpenEphysSessionSorter class. If you use the step \"open_sigui\", a gui window will open that allows to interact with the sorting results. Close the gui to continue to the next step and save the output."
   ]
  },
  {
   "cell_type": "code",
   "execution_count": null,
   "metadata": {},
   "outputs": [],
   "source": [
    "'''\n",
    "DEMO kilosort4 code using a local install.\n",
    "sorter = OES(session_dir=dataSearchPath+currentFile, channel_names=list(range(0, 63)),\n",
    "             out_folder=sorted_out,\n",
    "             sorter_name='kilosort4',\n",
    "             step_names=[\n",
    "                 #'clean_tree',                      # This removes everything from the output folder!!!\n",
    "                 'read_data',                       # Has to be included to do anything else\n",
    "                 'set_linear',\n",
    "                 'bandpass',\n",
    "                 'run_kilosort4_demo'\n",
    "             ])\n",
    "'''"
   ]
  },
  {
   "cell_type": "code",
   "execution_count": null,
   "metadata": {},
   "outputs": [],
   "source": [
    "sorter = OES(session_dir=dataSearchPath+currentFile, channel_names=list(range(0, 63)),\n",
    "             out_folder=sorted_out,\n",
    "             sorter_name='kilosort4',\n",
    "             step_names=[\n",
    "                 'clean_tree',                      # This removes everything from the output folder!!!\n",
    "                 'read_data',                       # Has to be included to do anything else\n",
    "                 'set_linear',\n",
    "                 'bandpass',\n",
    "                 'run_kilosort4_and_analyzer',\n",
    "                 'open_phy'                    # Currently pyramid supports Phy output or plexon\n",
    "             ])"
   ]
  },
  {
   "cell_type": "markdown",
   "metadata": {},
   "source": [
    "Spike interface has a lot of widgets availble to use with python jupyter notebooks. These widgets are interactive and useful, and the below code will test whether they are working appropriately on your system."
   ]
  },
  {
   "cell_type": "code",
   "execution_count": null,
   "metadata": {},
   "outputs": [],
   "source": [
    "w_ts_filt = sw.plot_spikes_on_traces(sorter.sorting_analyzer, channel_ids=[2], backend=\"ipywidgets\")"
   ]
  },
  {
   "cell_type": "markdown",
   "metadata": {},
   "source": [
    "Now, run Pyramid on the corresponding output to create a TrialFile. Make sure that the phy_reader.params_file points to the appropriate directory based on those you have defined above."
   ]
  },
  {
   "cell_type": "code",
   "execution_count": null,
   "metadata": {},
   "outputs": [],
   "source": [
    "cli.main([\"convert\", \n",
    "        \"--trial-file\", trialFileOutputName, \n",
    "        \"--search-path\", pyramidSearchPath, \n",
    "        \"--experiment\", convertSpecs, \n",
    "        \"--readers\", \n",
    "        \"ttl_reader.session_dir=\"+dataSearchPath+currentFile,\n",
    "        \"message_reader.session_dir=\"+dataSearchPath+currentFile,\n",
    "        \"gaze_x_reader.session_dir=\"+dataSearchPath+currentFile,\n",
    "        \"gaze_y_reader.session_dir=\"+dataSearchPath+currentFile,\n",
    "        \"pupil_reader.session_dir=\"+dataSearchPath+currentFile,\n",
    "        \"phy_reader.params_file=\"+sorted_out+\"/phy/params.py\"])"
   ]
  },
  {
   "cell_type": "code",
   "execution_count": null,
   "metadata": {},
   "outputs": [],
   "source": []
  }
 ],
 "metadata": {
  "kernelspec": {
   "display_name": "gold_pipelines",
   "language": "python",
   "name": "python3"
  },
  "language_info": {
   "codemirror_mode": {
    "name": "ipython",
    "version": 3
   },
   "file_extension": ".py",
   "mimetype": "text/x-python",
   "name": "python",
   "nbconvert_exporter": "python",
   "pygments_lexer": "ipython3",
   "version": "3.11.12"
  }
 },
 "nbformat": 4,
 "nbformat_minor": 2
}
