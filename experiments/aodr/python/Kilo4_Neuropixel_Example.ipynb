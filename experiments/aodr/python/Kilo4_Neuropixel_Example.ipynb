{
 "cells": [
  {
   "cell_type": "markdown",
   "metadata": {},
   "source": [
    "**The primary purpose of this notebook is to test the OpenEphys sorting \"pipeline\" with a neuropixel file."
   ]
  },
  {
   "cell_type": "code",
   "execution_count": 1,
   "metadata": {},
   "outputs": [],
   "source": [
    "import spikeinterface.widgets as sw\n",
    "from AODR_session_sorters import OpenEphysSessionSorter as OES\n",
    "from pyramid import cli\n",
    "import pandas as pd\n",
    "import numpy as np\n",
    "import sys, os\n",
    "%matplotlib ipympl"
   ]
  },
  {
   "cell_type": "markdown",
   "metadata": {},
   "source": [
    "Below, we define the relevant paths. You should change these to match the corresponding paths on your machine. If you encounter issues while loading/sorting the file, chances are that your computer is having a hard time accessing the files from cloud storage. If that is the case, you need to transfer your files to a local directory, and also save the files to a local directory."
   ]
  },
  {
   "cell_type": "code",
   "execution_count": 2,
   "metadata": {},
   "outputs": [],
   "source": [
    "# Experiment directory top level - should contain the subfolders like ecodes, python, matlab.\n",
    "expDir = \"C:/Users/lt711/Documents/GitHub/Lab_Pipelines/experiments/aodr\"\n",
    "os.chdir(expDir) # regular python files will run from the first open folder in your tree, but notebooks will work from wherever the notebook is stored.\n",
    "# Directory where the raw files are stored to be converted/sorted\n",
    "dataSearchPath = \"C:/Users/lt711/Box/NP Spike sorting/250224/spikeglx_data/\"\n",
    "# Where the rules for ecodes are stored\n",
    "pyramidSearchPath = expDir+\"/ecodes\"\n",
    "# Conversion specifications\n",
    "convertSpecs = expDir+\"/AODR_experiment_LC.yaml\"\n",
    "# Base directory to save the output files from pyramid (hdf5 files)\n",
    "baseSaveDir = \"C:/Users/lt711/Documents/Kilosort_Neuropixel_Test/\" # test output folder\n",
    "# The session directory (technically not a file, but a folder)\n",
    "currentFile = \"rec10_g4_imec0/\"\n",
    "# Directory to save the output files from sorting\n",
    "sorted_out = baseSaveDir\n",
    "\n",
    "sys.path.append(expDir+\"/python\") # to make sure pyramid can access the custom collectors/enhancers/functions?"
   ]
  },
  {
   "cell_type": "markdown",
   "metadata": {},
   "source": [
    "Below, we run the sorter/analyzer. With ~4 channels of neural data and a 90 min recording, this should take between 10-20 minutes. The step_names variable defines the sequential processing steps that are defined as methods in AODR_session_sorters OpenEphysSessionSorter class. If you use the step \"open_sigui\", a gui window will open that allows to interact with the sorting results. Close the gui to continue to the next step and save the output."
   ]
  },
  {
   "cell_type": "code",
   "execution_count": 3,
   "metadata": {},
   "outputs": [
    {
     "name": "stdout",
     "output_type": "stream",
     "text": [
      "read_data ...OK\n"
     ]
    }
   ],
   "source": [
    "sorter = OES(session_dir=dataSearchPath+currentFile,\n",
    "             out_folder=sorted_out,\n",
    "             stream_name = 'spikeglx',\n",
    "             sorter_name='kilosort4',       # If not using kilosort, this is the actual name of the sorter given to spikeinterface. In this case it controls how the probe and temporary binary data are stored\n",
    "             step_names=[                           # A list of all the sequential steps to take (class methods)\n",
    "                 'read_data'])                       # Has to be included to do anything else\n",
    "                 #'run_kilosort4_gui'])               # Run the kilosort4 GUI which will output a phy folder with the results"
   ]
  },
  {
   "cell_type": "code",
   "execution_count": 4,
   "metadata": {},
   "outputs": [],
   "source": [
    "sorter.open_phy(alt_path=\"C:/Users/lt711/Box/NP Spike sorting/250224/spikeglx_data/rec10_g4_imec0/kilosort4/\")"
   ]
  },
  {
   "cell_type": "markdown",
   "metadata": {},
   "source": [
    "TODO: Now, run Pyramid on the corresponding output to create a TrialFile. Make sure that the phy_reader.params_file points to the appropriate directory based on those you have defined above."
   ]
  },
  {
   "cell_type": "code",
   "execution_count": null,
   "metadata": {},
   "outputs": [],
   "source": [
    "cli.main([\"convert\", \n",
    "        \"--trial-file\", trialFileOutputName, \n",
    "        \"--search-path\", pyramidSearchPath, \n",
    "        \"--experiment\", convertSpecs, \n",
    "        \"--readers\", \n",
    "        \"ttl_reader.session_dir=\"+dataSearchPath+currentFile,\n",
    "        \"message_reader.session_dir=\"+dataSearchPath+currentFile,\n",
    "        \"gaze_x_reader.session_dir=\"+dataSearchPath+currentFile,\n",
    "        \"gaze_y_reader.session_dir=\"+dataSearchPath+currentFile,\n",
    "        \"pupil_reader.session_dir=\"+dataSearchPath+currentFile,\n",
    "        \"phy_reader.params_file=\"+sorted_out+\"params.py\"])"
   ]
  },
  {
   "cell_type": "code",
   "execution_count": null,
   "metadata": {},
   "outputs": [],
   "source": []
  }
 ],
 "metadata": {
  "kernelspec": {
   "display_name": "gold_pipelines",
   "language": "python",
   "name": "python3"
  },
  "language_info": {
   "codemirror_mode": {
    "name": "ipython",
    "version": 3
   },
   "file_extension": ".py",
   "mimetype": "text/x-python",
   "name": "python",
   "nbconvert_exporter": "python",
   "pygments_lexer": "ipython3",
   "version": "3.11.12"
  }
 },
 "nbformat": 4,
 "nbformat_minor": 2
}
